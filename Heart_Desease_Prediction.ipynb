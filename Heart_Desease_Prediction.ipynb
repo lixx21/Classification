{
  "nbformat": 4,
  "nbformat_minor": 0,
  "metadata": {
    "colab": {
      "name": "Heart Desease Prediction.ipynb",
      "provenance": [],
      "collapsed_sections": [],
      "authorship_tag": "ABX9TyP0qp9Vk+Kavlm3xxOJQPS5",
      "include_colab_link": true
    },
    "kernelspec": {
      "name": "python3",
      "display_name": "Python 3"
    },
    "language_info": {
      "name": "python"
    }
  },
  "cells": [
    {
      "cell_type": "markdown",
      "metadata": {
        "id": "view-in-github",
        "colab_type": "text"
      },
      "source": [
        "<a href=\"https://colab.research.google.com/github/lixx21/Classification/blob/main/Heart_Desease_Prediction.ipynb\" target=\"_parent\"><img src=\"https://colab.research.google.com/assets/colab-badge.svg\" alt=\"Open In Colab\"/></a>"
      ]
    },
    {
      "cell_type": "markdown",
      "metadata": {
        "id": "rJbw46rluPft"
      },
      "source": [
        "Felix Pratamasan"
      ]
    },
    {
      "cell_type": "markdown",
      "metadata": {
        "id": "WQpkI2OeuRbl"
      },
      "source": [
        "Download file here:\n",
        "[Heart Desease Data](https://drive.google.com/file/d/1gdGN52WobOxqybWxg9jYdyRWM52_Eyz6/view?usp=sharing)"
      ]
    },
    {
      "cell_type": "code",
      "metadata": {
        "id": "WVF13KbiynnT"
      },
      "source": [
        "import pandas as pd\n",
        "from sklearn.model_selection import train_test_split as tts\n",
        "from sklearn.metrics import accuracy_score as acc\n",
        "from sklearn.model_selection import cross_val_score as cvs\n",
        "from sklearn.preprocessing import MinMaxScaler as mms\n",
        "import sklearn.metrics  as met\n",
        "from sklearn.linear_model import LogisticRegression as lr\n",
        "import matplotlib.pyplot as plt"
      ],
      "execution_count": 46,
      "outputs": []
    },
    {
      "cell_type": "markdown",
      "metadata": {
        "id": "ylksbpCEhF3f"
      },
      "source": [
        "**Load Data**"
      ]
    },
    {
      "cell_type": "code",
      "metadata": {
        "colab": {
          "base_uri": "https://localhost:8080/",
          "height": 809
        },
        "id": "gHT9YWiiZod3",
        "outputId": "0ed68bf8-ef7e-4187-eb25-500a6f6ddbaf"
      },
      "source": [
        "#data frame\n",
        "\n",
        "data = pd.read_csv(\"heart_desease_data.csv\")\n",
        "print(\"check missing (null) value : \")\n",
        "print(data.isnull().sum()) #check if there is null value in dataset\n",
        "print(\"\")\n",
        "print(\"count target : \")\n",
        "print(data['target'].value_counts()) #count positive and negative target\n",
        "print(\"\")\n",
        "data"
      ],
      "execution_count": 36,
      "outputs": [
        {
          "output_type": "stream",
          "name": "stdout",
          "text": [
            "check missing (null) value : \n",
            "age         0\n",
            "sex         0\n",
            "cp          0\n",
            "trestbps    0\n",
            "chol        0\n",
            "fbs         0\n",
            "restecg     0\n",
            "thalach     0\n",
            "exang       0\n",
            "oldpeak     0\n",
            "slope       0\n",
            "ca          0\n",
            "thal        0\n",
            "target      0\n",
            "dtype: int64\n",
            "\n",
            "count target : \n",
            "1    164\n",
            "0    138\n",
            "Name: target, dtype: int64\n",
            "\n"
          ]
        },
        {
          "output_type": "execute_result",
          "data": {
            "text/html": [
              "<div>\n",
              "<style scoped>\n",
              "    .dataframe tbody tr th:only-of-type {\n",
              "        vertical-align: middle;\n",
              "    }\n",
              "\n",
              "    .dataframe tbody tr th {\n",
              "        vertical-align: top;\n",
              "    }\n",
              "\n",
              "    .dataframe thead th {\n",
              "        text-align: right;\n",
              "    }\n",
              "</style>\n",
              "<table border=\"1\" class=\"dataframe\">\n",
              "  <thead>\n",
              "    <tr style=\"text-align: right;\">\n",
              "      <th></th>\n",
              "      <th>age</th>\n",
              "      <th>sex</th>\n",
              "      <th>cp</th>\n",
              "      <th>trestbps</th>\n",
              "      <th>chol</th>\n",
              "      <th>fbs</th>\n",
              "      <th>restecg</th>\n",
              "      <th>thalach</th>\n",
              "      <th>exang</th>\n",
              "      <th>oldpeak</th>\n",
              "      <th>slope</th>\n",
              "      <th>ca</th>\n",
              "      <th>thal</th>\n",
              "      <th>target</th>\n",
              "    </tr>\n",
              "  </thead>\n",
              "  <tbody>\n",
              "    <tr>\n",
              "      <th>0</th>\n",
              "      <td>63</td>\n",
              "      <td>1</td>\n",
              "      <td>3</td>\n",
              "      <td>145</td>\n",
              "      <td>233</td>\n",
              "      <td>1</td>\n",
              "      <td>0</td>\n",
              "      <td>150</td>\n",
              "      <td>0</td>\n",
              "      <td>2.3</td>\n",
              "      <td>0</td>\n",
              "      <td>0</td>\n",
              "      <td>1</td>\n",
              "      <td>1</td>\n",
              "    </tr>\n",
              "    <tr>\n",
              "      <th>1</th>\n",
              "      <td>37</td>\n",
              "      <td>1</td>\n",
              "      <td>2</td>\n",
              "      <td>130</td>\n",
              "      <td>250</td>\n",
              "      <td>0</td>\n",
              "      <td>1</td>\n",
              "      <td>187</td>\n",
              "      <td>0</td>\n",
              "      <td>3.5</td>\n",
              "      <td>0</td>\n",
              "      <td>0</td>\n",
              "      <td>2</td>\n",
              "      <td>1</td>\n",
              "    </tr>\n",
              "    <tr>\n",
              "      <th>2</th>\n",
              "      <td>41</td>\n",
              "      <td>0</td>\n",
              "      <td>1</td>\n",
              "      <td>130</td>\n",
              "      <td>204</td>\n",
              "      <td>0</td>\n",
              "      <td>0</td>\n",
              "      <td>172</td>\n",
              "      <td>0</td>\n",
              "      <td>1.4</td>\n",
              "      <td>2</td>\n",
              "      <td>0</td>\n",
              "      <td>2</td>\n",
              "      <td>1</td>\n",
              "    </tr>\n",
              "    <tr>\n",
              "      <th>3</th>\n",
              "      <td>56</td>\n",
              "      <td>1</td>\n",
              "      <td>1</td>\n",
              "      <td>120</td>\n",
              "      <td>236</td>\n",
              "      <td>0</td>\n",
              "      <td>1</td>\n",
              "      <td>178</td>\n",
              "      <td>0</td>\n",
              "      <td>0.8</td>\n",
              "      <td>2</td>\n",
              "      <td>0</td>\n",
              "      <td>2</td>\n",
              "      <td>1</td>\n",
              "    </tr>\n",
              "    <tr>\n",
              "      <th>4</th>\n",
              "      <td>57</td>\n",
              "      <td>0</td>\n",
              "      <td>0</td>\n",
              "      <td>120</td>\n",
              "      <td>354</td>\n",
              "      <td>0</td>\n",
              "      <td>1</td>\n",
              "      <td>163</td>\n",
              "      <td>1</td>\n",
              "      <td>0.6</td>\n",
              "      <td>2</td>\n",
              "      <td>0</td>\n",
              "      <td>2</td>\n",
              "      <td>1</td>\n",
              "    </tr>\n",
              "    <tr>\n",
              "      <th>...</th>\n",
              "      <td>...</td>\n",
              "      <td>...</td>\n",
              "      <td>...</td>\n",
              "      <td>...</td>\n",
              "      <td>...</td>\n",
              "      <td>...</td>\n",
              "      <td>...</td>\n",
              "      <td>...</td>\n",
              "      <td>...</td>\n",
              "      <td>...</td>\n",
              "      <td>...</td>\n",
              "      <td>...</td>\n",
              "      <td>...</td>\n",
              "      <td>...</td>\n",
              "    </tr>\n",
              "    <tr>\n",
              "      <th>297</th>\n",
              "      <td>57</td>\n",
              "      <td>0</td>\n",
              "      <td>0</td>\n",
              "      <td>140</td>\n",
              "      <td>241</td>\n",
              "      <td>0</td>\n",
              "      <td>1</td>\n",
              "      <td>123</td>\n",
              "      <td>1</td>\n",
              "      <td>0.2</td>\n",
              "      <td>1</td>\n",
              "      <td>0</td>\n",
              "      <td>3</td>\n",
              "      <td>0</td>\n",
              "    </tr>\n",
              "    <tr>\n",
              "      <th>298</th>\n",
              "      <td>45</td>\n",
              "      <td>1</td>\n",
              "      <td>3</td>\n",
              "      <td>110</td>\n",
              "      <td>264</td>\n",
              "      <td>0</td>\n",
              "      <td>1</td>\n",
              "      <td>132</td>\n",
              "      <td>0</td>\n",
              "      <td>1.2</td>\n",
              "      <td>1</td>\n",
              "      <td>0</td>\n",
              "      <td>3</td>\n",
              "      <td>0</td>\n",
              "    </tr>\n",
              "    <tr>\n",
              "      <th>299</th>\n",
              "      <td>68</td>\n",
              "      <td>1</td>\n",
              "      <td>0</td>\n",
              "      <td>144</td>\n",
              "      <td>193</td>\n",
              "      <td>1</td>\n",
              "      <td>1</td>\n",
              "      <td>141</td>\n",
              "      <td>0</td>\n",
              "      <td>3.4</td>\n",
              "      <td>1</td>\n",
              "      <td>2</td>\n",
              "      <td>3</td>\n",
              "      <td>0</td>\n",
              "    </tr>\n",
              "    <tr>\n",
              "      <th>300</th>\n",
              "      <td>57</td>\n",
              "      <td>1</td>\n",
              "      <td>0</td>\n",
              "      <td>130</td>\n",
              "      <td>131</td>\n",
              "      <td>0</td>\n",
              "      <td>1</td>\n",
              "      <td>115</td>\n",
              "      <td>1</td>\n",
              "      <td>1.2</td>\n",
              "      <td>1</td>\n",
              "      <td>1</td>\n",
              "      <td>3</td>\n",
              "      <td>0</td>\n",
              "    </tr>\n",
              "    <tr>\n",
              "      <th>301</th>\n",
              "      <td>57</td>\n",
              "      <td>0</td>\n",
              "      <td>1</td>\n",
              "      <td>130</td>\n",
              "      <td>236</td>\n",
              "      <td>0</td>\n",
              "      <td>0</td>\n",
              "      <td>174</td>\n",
              "      <td>0</td>\n",
              "      <td>0.0</td>\n",
              "      <td>1</td>\n",
              "      <td>1</td>\n",
              "      <td>2</td>\n",
              "      <td>0</td>\n",
              "    </tr>\n",
              "  </tbody>\n",
              "</table>\n",
              "<p>302 rows × 14 columns</p>\n",
              "</div>"
            ],
            "text/plain": [
              "     age  sex  cp  trestbps  chol  fbs  ...  exang  oldpeak  slope  ca  thal  target\n",
              "0     63    1   3       145   233    1  ...      0      2.3      0   0     1       1\n",
              "1     37    1   2       130   250    0  ...      0      3.5      0   0     2       1\n",
              "2     41    0   1       130   204    0  ...      0      1.4      2   0     2       1\n",
              "3     56    1   1       120   236    0  ...      0      0.8      2   0     2       1\n",
              "4     57    0   0       120   354    0  ...      1      0.6      2   0     2       1\n",
              "..   ...  ...  ..       ...   ...  ...  ...    ...      ...    ...  ..   ...     ...\n",
              "297   57    0   0       140   241    0  ...      1      0.2      1   0     3       0\n",
              "298   45    1   3       110   264    0  ...      0      1.2      1   0     3       0\n",
              "299   68    1   0       144   193    1  ...      0      3.4      1   2     3       0\n",
              "300   57    1   0       130   131    0  ...      1      1.2      1   1     3       0\n",
              "301   57    0   1       130   236    0  ...      0      0.0      1   1     2       0\n",
              "\n",
              "[302 rows x 14 columns]"
            ]
          },
          "metadata": {},
          "execution_count": 36
        }
      ]
    },
    {
      "cell_type": "markdown",
      "metadata": {
        "id": "d9nNi7Z8hD6F"
      },
      "source": [
        "**Split Data**"
      ]
    },
    {
      "cell_type": "code",
      "metadata": {
        "colab": {
          "base_uri": "https://localhost:8080/"
        },
        "id": "PHnljUW0Z6ds",
        "outputId": "d64b5b19-9d24-471b-8d95-f0a31f2c2b52"
      },
      "source": [
        "#split data into X and y\n",
        "#we just select 10 attributes that we think it is useful to our prediction and prevent overfitting with feature selection on last shell\n",
        "X = data[['age', 'sex', 'cp', 'trestbps', 'thalach', 'exang', 'oldpeak', 'slope', 'ca', 'thal']]\n",
        "y = data.iloc[:,-1]\n",
        "\n",
        "print(\"Attributes\")\n",
        "print(X)\n",
        "print(\"\")\n",
        "print(\"Target(label)\")\n",
        "print(y)"
      ],
      "execution_count": 85,
      "outputs": [
        {
          "output_type": "stream",
          "name": "stdout",
          "text": [
            "Attributes\n",
            "     age  sex  cp  trestbps  thalach  exang  oldpeak  slope  ca  thal\n",
            "0     63    1   3       145      150      0      2.3      0   0     1\n",
            "1     37    1   2       130      187      0      3.5      0   0     2\n",
            "2     41    0   1       130      172      0      1.4      2   0     2\n",
            "3     56    1   1       120      178      0      0.8      2   0     2\n",
            "4     57    0   0       120      163      1      0.6      2   0     2\n",
            "..   ...  ...  ..       ...      ...    ...      ...    ...  ..   ...\n",
            "297   57    0   0       140      123      1      0.2      1   0     3\n",
            "298   45    1   3       110      132      0      1.2      1   0     3\n",
            "299   68    1   0       144      141      0      3.4      1   2     3\n",
            "300   57    1   0       130      115      1      1.2      1   1     3\n",
            "301   57    0   1       130      174      0      0.0      1   1     2\n",
            "\n",
            "[302 rows x 10 columns]\n",
            "\n",
            "Target(label)\n",
            "0      1\n",
            "1      1\n",
            "2      1\n",
            "3      1\n",
            "4      1\n",
            "      ..\n",
            "297    0\n",
            "298    0\n",
            "299    0\n",
            "300    0\n",
            "301    0\n",
            "Name: target, Length: 302, dtype: int64\n"
          ]
        }
      ]
    },
    {
      "cell_type": "markdown",
      "metadata": {
        "id": "BBrhqB9Yg-bl"
      },
      "source": [
        "**Train Model**"
      ]
    },
    {
      "cell_type": "code",
      "metadata": {
        "colab": {
          "base_uri": "https://localhost:8080/"
        },
        "id": "csuk5uipzJHp",
        "outputId": "ca01ec2c-e130-472e-d545-065a21d19390"
      },
      "source": [
        "#Normalization data and split into data train and data test\n",
        "norm = mms().fit(X) #nomralization to change all the data in X in range value (0-1)\n",
        "X = norm.transform(X)\n",
        "\n",
        "X_train, X_test, y_train, y_test = tts(X,y, test_size = 0.4, random_state=1)\n",
        "\n",
        "#Make a model\n",
        "\n",
        "model = lr(solver='lbfgs')\n",
        "model.fit(X_train, y_train)\n"
      ],
      "execution_count": 86,
      "outputs": [
        {
          "output_type": "execute_result",
          "data": {
            "text/plain": [
              "LogisticRegression(C=1.0, class_weight=None, dual=False, fit_intercept=True,\n",
              "                   intercept_scaling=1, l1_ratio=None, max_iter=100,\n",
              "                   multi_class='auto', n_jobs=None, penalty='l2',\n",
              "                   random_state=None, solver='lbfgs', tol=0.0001, verbose=0,\n",
              "                   warm_start=False)"
            ]
          },
          "metadata": {},
          "execution_count": 86
        }
      ]
    },
    {
      "cell_type": "markdown",
      "metadata": {
        "id": "Hc6lMUXQg5ht"
      },
      "source": [
        "**Model Evaluation**"
      ]
    },
    {
      "cell_type": "code",
      "metadata": {
        "colab": {
          "base_uri": "https://localhost:8080/"
        },
        "id": "rZleI_hNg3-l",
        "outputId": "ffa10783-2da2-425d-c2ed-0ddefadf6024"
      },
      "source": [
        "#Make a predict accuracy\n",
        "predict_train = model.predict(X_train)\n",
        "print('predict accuracy train: ', acc(predict_train, y_train))\n",
        "\n",
        "print(\"\")\n",
        "predict_test = model.predict(X_test)\n",
        "print('predict accuracy test: ', acc(predict_test, y_test))\n",
        "\n",
        "print(\"\")\n",
        "score = cvs(model,X_test, y_test, cv = 5)\n",
        "print('cross validation score: ', score)\n",
        "\n",
        "print(\"\")\n",
        "confusion = met.confusion_matrix(y_test, predict_test)\n",
        "print(\"confusion metrix [true positive; false negative; false positive; true negative]: \")\n",
        "print(confusion)\n",
        "\n",
        "print(\"\")\n",
        "precision = met.precision_score(y_test, predict_test) #measure data that predict as true positive\n",
        "print(\"precision score:\", precision)\n",
        "\n",
        "print(\"\")\n",
        "recall = met.recall_score(y_test, predict_test)#measure data that successfully predict as true positive\n",
        "print(\"recall score:\", recall)"
      ],
      "execution_count": 87,
      "outputs": [
        {
          "output_type": "stream",
          "name": "stdout",
          "text": [
            "predict accuracy train:  0.850828729281768\n",
            "\n",
            "predict accuracy test:  0.8181818181818182\n",
            "\n",
            "cross validation score:  [0.8        0.875      0.79166667 0.75       0.79166667]\n",
            "\n",
            "confusion metrix [true positive; false negative; false positive; true negative]: \n",
            "[[45 11]\n",
            " [11 54]]\n",
            "\n",
            "precision score: 0.8307692307692308\n",
            "\n",
            "recall score: 0.8307692307692308\n"
          ]
        }
      ]
    },
    {
      "cell_type": "markdown",
      "metadata": {
        "id": "mVtsVE_vmmtH"
      },
      "source": [
        "**ROC VISUALIZATION**"
      ]
    },
    {
      "cell_type": "code",
      "metadata": {
        "colab": {
          "base_uri": "https://localhost:8080/",
          "height": 283
        },
        "id": "nNMNBFrnmpv_",
        "outputId": "89ef3822-1d31-4bc2-d13d-63f15547d643"
      },
      "source": [
        "#Make ROC curve to visualize model\n",
        "\n",
        "y_pred_proba = model.predict_proba(X_test)[::,1]\n",
        "fp, tp, _ = met.roc_curve(y_test, y_pred_proba)\n",
        "auc = met.roc_auc_score(y_test, y_pred_proba) #AUC(Area Under Curve)\n",
        "\n",
        "plt.plot(fp,tp,label=\"data 1, auc = \"+str(auc))\n",
        "plt.legend(loc=4) #position of legend\n",
        "plt.show\n"
      ],
      "execution_count": 88,
      "outputs": [
        {
          "output_type": "execute_result",
          "data": {
            "text/plain": [
              "<function matplotlib.pyplot.show>"
            ]
          },
          "metadata": {},
          "execution_count": 88
        },
        {
          "output_type": "display_data",
          "data": {
            "image/png": "[encoded data removed]",
            "text/plain": [
              "<Figure size 432x288 with 1 Axes>"
            ]
          },
          "metadata": {
            "needs_background": "light"
          }
        }
      ]
    },
    {
      "cell_type": "markdown",
      "metadata": {
        "id": "gb2ZutO5tLxV"
      },
      "source": [
        "**Feature Selection**"
      ]
    },
    {
      "cell_type": "code",
      "metadata": {
        "colab": {
          "base_uri": "https://localhost:8080/"
        },
        "id": "gdIQrDETqRbZ",
        "outputId": "85755edc-f07a-4204-99b8-2fabb13ac06f"
      },
      "source": [
        "#to select the most useful attributes\n",
        "from sklearn.feature_selection import RFE as fs\n",
        "\n",
        "rfe = fs(model, 10)\n",
        "rfe = rfe.fit(X_train, y_train)\n",
        "\n",
        "print(\"support: \", rfe.support_)\n",
        "print(\"ranking: \", rfe.ranking_)\n",
        "\n",
        "#false means that the atribute is not useful"
      ],
      "execution_count": 84,
      "outputs": [
        {
          "output_type": "stream",
          "name": "stdout",
          "text": [
            "support:  [ True  True  True  True False False False  True  True  True  True  True\n",
            "  True]\n",
            "ranking:  [1 1 1 1 3 4 2 1 1 1 1 1 1]\n"
          ]
        }
      ]
    }
  ]
}