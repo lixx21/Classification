{
  "nbformat": 4,
  "nbformat_minor": 0,
  "metadata": {
    "colab": {
      "name": "Social Network ADS Purchased.ipynb",
      "provenance": [],
      "collapsed_sections": [],
      "authorship_tag": "ABX9TyN3Fs1iPjKDcmDAxHIxD5M+",
      "include_colab_link": true
    },
    "kernelspec": {
      "name": "python3",
      "display_name": "Python 3"
    },
    "language_info": {
      "name": "python"
    }
  },
  "cells": [
    {
      "cell_type": "markdown",
      "metadata": {
        "id": "view-in-github",
        "colab_type": "text"
      },
      "source": [
        "<a href=\"https://colab.research.google.com/github/lixx21/Classification/blob/main/Social_Network_ADS_Purchased.ipynb\" target=\"_parent\"><img src=\"https://colab.research.google.com/assets/colab-badge.svg\" alt=\"Open In Colab\"/></a>"
      ]
    },
    {
      "cell_type": "markdown",
      "metadata": {
        "id": "SeqB_fKKvk3J"
      },
      "source": [
        "Felix Pratamasan"
      ]
    },
    {
      "cell_type": "markdown",
      "metadata": {
        "id": "C4XOjaDXSI2L"
      },
      "source": [
        "you can download the file on: [Social Network Ads](https://www.kaggle.com/d4rklucif3r/social-network-ads)"
      ]
    },
    {
      "cell_type": "code",
      "metadata": {
        "id": "Fo227xSfgxVn"
      },
      "source": [
        "import pandas as pd\n",
        "from sklearn.model_selection import train_test_split as tts\n",
        "from sklearn.tree import DecisionTreeClassifier as dtc\n",
        "from sklearn import tree\n",
        "from sklearn.preprocessing import StandardScaler as ss\n",
        "import sklearn.metrics as met\n",
        "from sklearn.feature_selection import RFE as fs\n",
        "import pydotplus as pp"
      ],
      "execution_count": 55,
      "outputs": []
    },
    {
      "cell_type": "markdown",
      "metadata": {
        "id": "jjm-ns9ahQU3"
      },
      "source": [
        "**LOAD DATASET**"
      ]
    },
    {
      "cell_type": "code",
      "metadata": {
        "colab": {
          "base_uri": "https://localhost:8080/",
          "height": 417
        },
        "id": "2JofskrdhP3D",
        "outputId": "7a7261a7-d49a-47e6-836f-864470309025"
      },
      "source": [
        "data = pd.read_csv(\"Social_Network_Ads.csv\")\n",
        "\n",
        "print(\"CHECK IF THERE IS NULL VALUE\")\n",
        "print(data.isnull().sum())\n",
        "print(\"\")\n",
        "print(\"CHECK SUM OF PURCHASED(1) AND NOT(0)\")\n",
        "print(data['Purchased'].value_counts())\n",
        "\n",
        "#change Gender into numerik\n",
        "num = {\"Gender\":{\"Male\":1, \"Female\":0}}\n",
        "data.replace(num, inplace = True)\n",
        "\n",
        "data.head()"
      ],
      "execution_count": 56,
      "outputs": [
        {
          "output_type": "stream",
          "name": "stdout",
          "text": [
            "CHECK IF THERE IS NULL VALUE\n",
            "User ID            0\n",
            "Gender             0\n",
            "Age                0\n",
            "EstimatedSalary    0\n",
            "Purchased          0\n",
            "dtype: int64\n",
            "\n",
            "CHECK SUM OF PURCHASED(1) AND NOT(0)\n",
            "0    257\n",
            "1    143\n",
            "Name: Purchased, dtype: int64\n"
          ]
        },
        {
          "output_type": "execute_result",
          "data": {
            "text/html": [
              "<div>\n",
              "<style scoped>\n",
              "    .dataframe tbody tr th:only-of-type {\n",
              "        vertical-align: middle;\n",
              "    }\n",
              "\n",
              "    .dataframe tbody tr th {\n",
              "        vertical-align: top;\n",
              "    }\n",
              "\n",
              "    .dataframe thead th {\n",
              "        text-align: right;\n",
              "    }\n",
              "</style>\n",
              "<table border=\"1\" class=\"dataframe\">\n",
              "  <thead>\n",
              "    <tr style=\"text-align: right;\">\n",
              "      <th></th>\n",
              "      <th>User ID</th>\n",
              "      <th>Gender</th>\n",
              "      <th>Age</th>\n",
              "      <th>EstimatedSalary</th>\n",
              "      <th>Purchased</th>\n",
              "    </tr>\n",
              "  </thead>\n",
              "  <tbody>\n",
              "    <tr>\n",
              "      <th>0</th>\n",
              "      <td>15624510</td>\n",
              "      <td>1</td>\n",
              "      <td>19</td>\n",
              "      <td>19000</td>\n",
              "      <td>0</td>\n",
              "    </tr>\n",
              "    <tr>\n",
              "      <th>1</th>\n",
              "      <td>15810944</td>\n",
              "      <td>1</td>\n",
              "      <td>35</td>\n",
              "      <td>20000</td>\n",
              "      <td>0</td>\n",
              "    </tr>\n",
              "    <tr>\n",
              "      <th>2</th>\n",
              "      <td>15668575</td>\n",
              "      <td>0</td>\n",
              "      <td>26</td>\n",
              "      <td>43000</td>\n",
              "      <td>0</td>\n",
              "    </tr>\n",
              "    <tr>\n",
              "      <th>3</th>\n",
              "      <td>15603246</td>\n",
              "      <td>0</td>\n",
              "      <td>27</td>\n",
              "      <td>57000</td>\n",
              "      <td>0</td>\n",
              "    </tr>\n",
              "    <tr>\n",
              "      <th>4</th>\n",
              "      <td>15804002</td>\n",
              "      <td>1</td>\n",
              "      <td>19</td>\n",
              "      <td>76000</td>\n",
              "      <td>0</td>\n",
              "    </tr>\n",
              "  </tbody>\n",
              "</table>\n",
              "</div>"
            ],
            "text/plain": [
              "    User ID  Gender  Age  EstimatedSalary  Purchased\n",
              "0  15624510       1   19            19000          0\n",
              "1  15810944       1   35            20000          0\n",
              "2  15668575       0   26            43000          0\n",
              "3  15603246       0   27            57000          0\n",
              "4  15804002       1   19            76000          0"
            ]
          },
          "metadata": {},
          "execution_count": 56
        }
      ]
    },
    {
      "cell_type": "markdown",
      "metadata": {
        "id": "AsMyl3qEiGMh"
      },
      "source": [
        "**SPLIT DATASET**"
      ]
    },
    {
      "cell_type": "code",
      "metadata": {
        "colab": {
          "base_uri": "https://localhost:8080/"
        },
        "id": "tnBlqgEAiFhv",
        "outputId": "ae8e1264-373a-4cfc-8b5e-6339bbe22cbe"
      },
      "source": [
        "#we're not select the unnecessary feature (User ID)\n",
        "\n",
        "X = data.iloc[:,1:4]\n",
        "y = data['Purchased']\n",
        "\n",
        "print(X)\n",
        "print(\"\")\n",
        "print(y)"
      ],
      "execution_count": 57,
      "outputs": [
        {
          "output_type": "stream",
          "name": "stdout",
          "text": [
            "     Gender  Age  EstimatedSalary\n",
            "0         1   19            19000\n",
            "1         1   35            20000\n",
            "2         0   26            43000\n",
            "3         0   27            57000\n",
            "4         1   19            76000\n",
            "..      ...  ...              ...\n",
            "395       0   46            41000\n",
            "396       1   51            23000\n",
            "397       0   50            20000\n",
            "398       1   36            33000\n",
            "399       0   49            36000\n",
            "\n",
            "[400 rows x 3 columns]\n",
            "\n",
            "0      0\n",
            "1      0\n",
            "2      0\n",
            "3      0\n",
            "4      0\n",
            "      ..\n",
            "395    1\n",
            "396    1\n",
            "397    1\n",
            "398    0\n",
            "399    1\n",
            "Name: Purchased, Length: 400, dtype: int64\n"
          ]
        }
      ]
    },
    {
      "cell_type": "markdown",
      "metadata": {
        "id": "DdYP5d8ckvQ8"
      },
      "source": [
        "**DATA PREPARATION**"
      ]
    },
    {
      "cell_type": "code",
      "metadata": {
        "id": "m_US2yOzku7x",
        "colab": {
          "base_uri": "https://localhost:8080/",
          "height": 418
        },
        "outputId": "c8b40844-e55a-440b-89b7-380bc8a2c198"
      },
      "source": [
        "#split train and test\n",
        "X_train, X_test, y_train, y_test = tts(X,y, test_size=0.3, random_state=1)\n",
        "\n"
      ],
      "execution_count": 58,
      "outputs": [
        {
          "output_type": "execute_result",
          "data": {
            "text/html": [
              "<div>\n",
              "<style scoped>\n",
              "    .dataframe tbody tr th:only-of-type {\n",
              "        vertical-align: middle;\n",
              "    }\n",
              "\n",
              "    .dataframe tbody tr th {\n",
              "        vertical-align: top;\n",
              "    }\n",
              "\n",
              "    .dataframe thead th {\n",
              "        text-align: right;\n",
              "    }\n",
              "</style>\n",
              "<table border=\"1\" class=\"dataframe\">\n",
              "  <thead>\n",
              "    <tr style=\"text-align: right;\">\n",
              "      <th></th>\n",
              "      <th>Gender</th>\n",
              "      <th>Age</th>\n",
              "      <th>EstimatedSalary</th>\n",
              "    </tr>\n",
              "  </thead>\n",
              "  <tbody>\n",
              "    <tr>\n",
              "      <th>39</th>\n",
              "      <td>0</td>\n",
              "      <td>27</td>\n",
              "      <td>31000</td>\n",
              "    </tr>\n",
              "    <tr>\n",
              "      <th>167</th>\n",
              "      <td>0</td>\n",
              "      <td>35</td>\n",
              "      <td>71000</td>\n",
              "    </tr>\n",
              "    <tr>\n",
              "      <th>383</th>\n",
              "      <td>1</td>\n",
              "      <td>49</td>\n",
              "      <td>28000</td>\n",
              "    </tr>\n",
              "    <tr>\n",
              "      <th>221</th>\n",
              "      <td>1</td>\n",
              "      <td>35</td>\n",
              "      <td>91000</td>\n",
              "    </tr>\n",
              "    <tr>\n",
              "      <th>351</th>\n",
              "      <td>1</td>\n",
              "      <td>37</td>\n",
              "      <td>75000</td>\n",
              "    </tr>\n",
              "    <tr>\n",
              "      <th>...</th>\n",
              "      <td>...</td>\n",
              "      <td>...</td>\n",
              "      <td>...</td>\n",
              "    </tr>\n",
              "    <tr>\n",
              "      <th>255</th>\n",
              "      <td>0</td>\n",
              "      <td>52</td>\n",
              "      <td>90000</td>\n",
              "    </tr>\n",
              "    <tr>\n",
              "      <th>72</th>\n",
              "      <td>0</td>\n",
              "      <td>20</td>\n",
              "      <td>23000</td>\n",
              "    </tr>\n",
              "    <tr>\n",
              "      <th>396</th>\n",
              "      <td>1</td>\n",
              "      <td>51</td>\n",
              "      <td>23000</td>\n",
              "    </tr>\n",
              "    <tr>\n",
              "      <th>235</th>\n",
              "      <td>1</td>\n",
              "      <td>46</td>\n",
              "      <td>79000</td>\n",
              "    </tr>\n",
              "    <tr>\n",
              "      <th>37</th>\n",
              "      <td>1</td>\n",
              "      <td>30</td>\n",
              "      <td>49000</td>\n",
              "    </tr>\n",
              "  </tbody>\n",
              "</table>\n",
              "<p>280 rows × 3 columns</p>\n",
              "</div>"
            ],
            "text/plain": [
              "     Gender  Age  EstimatedSalary\n",
              "39        0   27            31000\n",
              "167       0   35            71000\n",
              "383       1   49            28000\n",
              "221       1   35            91000\n",
              "351       1   37            75000\n",
              "..      ...  ...              ...\n",
              "255       0   52            90000\n",
              "72        0   20            23000\n",
              "396       1   51            23000\n",
              "235       1   46            79000\n",
              "37        1   30            49000\n",
              "\n",
              "[280 rows x 3 columns]"
            ]
          },
          "metadata": {},
          "execution_count": 58
        }
      ]
    },
    {
      "cell_type": "markdown",
      "metadata": {
        "id": "Eykn3fm9qmf-"
      },
      "source": [
        "**MODELING**"
      ]
    },
    {
      "cell_type": "code",
      "metadata": {
        "colab": {
          "base_uri": "https://localhost:8080/"
        },
        "id": "5H6gZ-VuqpU_",
        "outputId": "d92b877f-176a-4246-c5fc-4626384a27fb"
      },
      "source": [
        "#create model\n",
        "model = dtc(criterion = \"entropy\", splitter = \"best\", max_depth=5)\n",
        "model = model.fit(X_train, y_train)\n",
        "\n",
        "#evaluation \n",
        "predict_train = model.predict(X_train)\n",
        "print(\"predict train: \", met.accuracy_score(y_train, predict_train))\n",
        "\n",
        "print(\"\")\n",
        "predict_test = model.predict(X_test)\n",
        "print(\"predict test: \", met.accuracy_score(y_test, predict_test))\n",
        "\n",
        "print(\"\")\n",
        "confusion = met.confusion_matrix(y_test, predict_test)\n",
        "print(\"confusion matrix (true positive; false positive; false negative; true negative):\")\n",
        "print(confusion)\n",
        "\n",
        "print(\"\")\n",
        "precision = met.precision_score(y_test, predict_test)\n",
        "print(\"predict as true positive: \", precision)\n",
        "\n",
        "print(\"\")\n",
        "recall = met.recall_score(y_test, predict_test)\n",
        "print(\"succesfully predict as true positive: \", recall)\n"
      ],
      "execution_count": 59,
      "outputs": [
        {
          "output_type": "stream",
          "name": "stdout",
          "text": [
            "predict train:  0.9571428571428572\n",
            "\n",
            "predict test:  0.8583333333333333\n",
            "\n",
            "confusion matrix (true positive; false positive; false negative; true negative):\n",
            "[[63  9]\n",
            " [ 8 40]]\n",
            "\n",
            "predict as true positive:  0.8163265306122449\n",
            "\n",
            "succesfully predict as true positive:  0.8333333333333334\n"
          ]
        }
      ]
    },
    {
      "cell_type": "markdown",
      "metadata": {
        "id": "lV18KJZUuPwa"
      },
      "source": [
        "**VISUALIZE DECISION TREE**"
      ]
    },
    {
      "cell_type": "code",
      "metadata": {
        "id": "BbwFAFTIuO0e",
        "colab": {
          "base_uri": "https://localhost:8080/"
        },
        "outputId": "507170fd-e055-4edd-9d63-10cff4e22088"
      },
      "source": [
        "labels = ['gender', 'age', 'estimated salary']\n",
        "dot_data = tree.export_graphviz(model, out_file=None, feature_names = labels, filled=True, rounded=True)\n",
        "graph = pp.graph_from_dot_data(dot_data)\n",
        "graph.write_png('decisiontree.png')\n",
        "\n",
        "#it will downloaded to your local computer if you access this projecr on jupyter notebook \n",
        "#and it will downloaded to your google colab files if you access this project on google colab\n",
        "#it takes a few second"
      ],
      "execution_count": 60,
      "outputs": [
        {
          "output_type": "execute_result",
          "data": {
            "text/plain": [
              "True"
            ]
          },
          "metadata": {},
          "execution_count": 60
        }
      ]
    }
  ]
}